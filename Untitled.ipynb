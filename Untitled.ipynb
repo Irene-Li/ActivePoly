{
 "cells": [
  {
   "cell_type": "code",
   "execution_count": 1,
   "id": "ac2d1f7e",
   "metadata": {},
   "outputs": [],
   "source": [
    "import numpy as np"
   ]
  },
  {
   "cell_type": "code",
   "execution_count": 16,
   "id": "50bf070f",
   "metadata": {},
   "outputs": [
    {
     "name": "stdout",
     "output_type": "stream",
     "text": [
      "chi:  0.003954108799026654\n",
      "B:  0.0001893803441834125\n",
      "epsilon:  0.6046315134205529\n"
     ]
    }
   ],
   "source": [
    "L = 12\n",
    "r = 0.5\n",
    "chi = 4*np.pi*10**(-3)/np.log(L/r)\n",
    "B = 80*np.pi/4/(L/r)**4\n",
    "epsilon = B/chi*(0.6*np.pi)**4\n",
    "print('chi: ', chi)\n",
    "print('B: ', B)\n",
    "print('epsilon: ', epsilon)"
   ]
  },
  {
   "cell_type": "code",
   "execution_count": 12,
   "id": "cd474399",
   "metadata": {},
   "outputs": [
    {
     "name": "stdout",
     "output_type": "stream",
     "text": [
      "mu:  0.15578145389701453\n"
     ]
    }
   ],
   "source": [
    "mu = 6*np.pi*((1/2*2/11**2))\n",
    "print('mu: ', mu)"
   ]
  },
  {
   "cell_type": "code",
   "execution_count": null,
   "id": "ccf39f82",
   "metadata": {},
   "outputs": [],
   "source": []
  }
 ],
 "metadata": {
  "kernelspec": {
   "display_name": "Python 3 (ipykernel)",
   "language": "python",
   "name": "python3"
  },
  "language_info": {
   "codemirror_mode": {
    "name": "ipython",
    "version": 3
   },
   "file_extension": ".py",
   "mimetype": "text/x-python",
   "name": "python",
   "nbconvert_exporter": "python",
   "pygments_lexer": "ipython3",
   "version": "3.11.8"
  }
 },
 "nbformat": 4,
 "nbformat_minor": 5
}
