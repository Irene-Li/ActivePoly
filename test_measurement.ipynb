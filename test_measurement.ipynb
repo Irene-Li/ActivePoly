{
 "cells": [
  {
   "cell_type": "code",
   "execution_count": 1,
   "id": "760dd880-1995-4160-bd72-6c147d534f07",
   "metadata": {},
   "outputs": [],
   "source": [
    "import numpy as np\n",
    "from scipy.optimize import minimize, brute\n",
    "import scipy\n",
    "from scipy.linalg import solve_continuous_lyapunov\n",
    "from scipy.stats import multivariate_normal, norm \n",
    "from matplotlib import pyplot as plt\n",
    "from scipy.io import loadmat\n",
    "import os\n",
    "np.set_printoptions(precision=3)\n",
    "from itertools import groupby"
   ]
  },
  {
   "cell_type": "code",
   "execution_count": 15,
   "id": "f7eb2248-3b40-4b2a-98d0-bcb2290c9f7c",
   "metadata": {},
   "outputs": [],
   "source": [
    "class simple_model(): \n",
    "    \n",
    "    def __init__(self, sigma, r):\n",
    "        self.rv =  norm(0, sigma)\n",
    "        self.rvm =  norm(0, r*sigma)\n",
    "        \n",
    "    def evolve(self, T, dt, n_frames):\n",
    "        y = 0 \n",
    "        res = np.zeros((n_frames))\n",
    "        true_traj = np.zeros((n_frames))\n",
    "        for i in range(n_frames):\n",
    "            for j in range(int(T/n_frames/dt)):\n",
    "                y = self._update(y, dt)\n",
    "            res[i] = y + self.rvm.rvs()\n",
    "            true_traj[i] = y \n",
    "        return res, true_traj \n",
    "\n",
    "    def _update(self, y, dt):\n",
    "        det = - y * dt \n",
    "        sto = np.sqrt(dt)*self.rv.rvs()\n",
    "        y += det + sto \n",
    "        return y \n",
    "        "
   ]
  },
  {
   "cell_type": "code",
   "execution_count": 55,
   "id": "e8f9d641-af53-4f69-86ce-1d03aab6c0f9",
   "metadata": {},
   "outputs": [],
   "source": [
    "T = 5e3\n",
    "dt = 5e-3\n",
    "n_frames = int(1*T) \n",
    "\n",
    "sigma = 0.2 \n",
    "r = 1\n",
    "\n",
    "m = simple_model(sigma, r)\n",
    "res, true_traj = m.evolve(T, dt, n_frames)"
   ]
  },
  {
   "cell_type": "code",
   "execution_count": 56,
   "id": "9bf6052e-d8e4-41ed-9770-56f4f33d47f4",
   "metadata": {},
   "outputs": [
    {
     "data": {
      "image/png": "[encoded data removed]",
      "text/plain": [
       "<Figure size 640x480 with 1 Axes>"
      ]
     },
     "metadata": {},
     "output_type": "display_data"
    }
   ],
   "source": [
    "plt.hist(res, bins=20, density=True)\n",
    "plt.hist(true_traj, bins=20, fill=False, density=True)\n",
    "plt.show() "
   ]
  },
  {
   "cell_type": "code",
   "execution_count": 53,
   "id": "a279871b-1dfb-4240-8825-22c6c14c13b7",
   "metadata": {},
   "outputs": [],
   "source": [
    "class inference():\n",
    "    \n",
    "    def __init__(self):\n",
    "        pass \n",
    "    \n",
    "    def inf(self, guess, trajs, dt, bounds=None, brute_force=False, method='trust-constr'):   \n",
    "        cost = lambda x: self._minuslogP(x, trajs, dt)\n",
    "        if bounds is None: \n",
    "            bounds = [[1e-6, 10]]*2\n",
    "        if brute_force: \n",
    "            res = brute(cost, bounds, Ns=100)\n",
    "            MAP, cost = res[0], res[1]\n",
    "        else: \n",
    "            res = minimize(cost, guess, bounds=bounds, method=method)\n",
    "            MAP, cost = res.x, res.fun \n",
    "        return MAP, cost\n",
    "           \n",
    "    def _minuslogP(self, params, traj, dt):\n",
    "        '''\n",
    "        traj: 2 x T \n",
    "        '''\n",
    "\n",
    "        sigma = params[0] \n",
    "        r = params[1] \n",
    "\n",
    "        f = 1/(1+2*r**2)\n",
    "        evo = np.exp(-dt) \n",
    "        cov = (1-evo**2)*sigma**2/2 \n",
    "        cov += (1+evo**2/(1+2*r**2))*(r*sigma)**2 \n",
    "        norm = - np.log(cov)\n",
    "        \n",
    "\n",
    "        T = len(traj)-1\n",
    "        xm = evo*f*traj[:-1]\n",
    "        diff = (traj[1:] - xm)\n",
    "        minuslogp = np.sum(diff**2)/cov/2\n",
    "        minuslogp -= T*norm/2\n",
    "        return minuslogp"
   ]
  },
  {
   "cell_type": "code",
   "execution_count": 54,
   "id": "04c8f967-f439-4888-8da4-90da939848d4",
   "metadata": {},
   "outputs": [
    {
     "name": "stdout",
     "output_type": "stream",
     "text": [
      "[0.194 1.031] -2763.8856430698124\n",
      "[0.2, 1] -2763.6894260673953\n"
     ]
    }
   ],
   "source": [
    "inf = inference()\n",
    "guess = [1, 1]\n",
    "MAP, cost = inf.inf(guess, res, 1, brute_force=False)\n",
    "print(MAP, cost)\n",
    "print([sigma, r], inf._minuslogP([sigma, r], res, 1))"
   ]
  },
  {
   "cell_type": "code",
   "execution_count": null,
   "id": "4b08ac8d-3f6c-4542-a3f9-07bd6f19e590",
   "metadata": {},
   "outputs": [],
   "source": []
  }
 ],
 "metadata": {
  "kernelspec": {
   "display_name": "Python 3 (ipykernel)",
   "language": "python",
   "name": "python3"
  },
  "language_info": {
   "codemirror_mode": {
    "name": "ipython",
    "version": 3
   },
   "file_extension": ".py",
   "mimetype": "text/x-python",
   "name": "python",
   "nbconvert_exporter": "python",
   "pygments_lexer": "ipython3",
   "version": "3.11.7"
  }
 },
 "nbformat": 4,
 "nbformat_minor": 5
}
