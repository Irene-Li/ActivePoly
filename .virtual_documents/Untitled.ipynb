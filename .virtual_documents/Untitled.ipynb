import numpy as np


a = - np.diag([1, 1, 1])
a += np.diag([1, 1], k=-1)


np.linalg.det(a)



