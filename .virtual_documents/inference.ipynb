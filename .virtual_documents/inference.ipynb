import numpy as np
from scipy.optimize import minimize, brute
import scipy
from scipy.linalg import solve_continuous_lyapunov
from scipy.stats import multivariate_normal
from matplotlib import pyplot as plt
from scipy.io import loadmat
import os
np.set_printoptions(precision=3)
from itertools import groupby
from inference import * 
from utils import *


def convert_params(params): 
    J = np.array([[-params[0], params[2]], [-params[3], -params[1]]])
    B = np.diagflat(params[4:6])**2 
    c = params[3]/params[0] 
    B[1, 1] += c*c*B[0, 0] 
    B[1, 0] = c*B[0, 0]
    B[0, 1] = B[1, 0] 
    return J, B 





# params in order of [epsilon, gamma-mu*c, mu, c]
T = 5e2
dt = 5e-3
n_frames = int(1*T) 
n_repeats = 5

params = [0.057, 2.51, 0.173, 1, 0.025, 0.787] 
J, B = convert_params(params)
print(J)
print(B)
print(np.linalg.eigvals(J))

m = sim(params, convert_params)
results = m.evolve(T, dt, n_frames, n_repeats)


plt.plot(results[0][0])
plt.plot(results[0][1])
plt.xlim([0, 300])
plt.show()

mean = lambda x: np.mean(x, axis=1)
print(list(map(mean, results)))


## Exact inference without constraints

inf = exact_inference(convert_params) 
inf.inf(results, 1)


## Numerical inference with constraints 

inf = inference(convert_params)
guess = [1, 1, 1, 1, 1, 1]
MAP, cost = inf.inf(guess, results, 1, brute_force=False)
print(MAP, cost)
print(params, inf._minuslogP(params, results, 1))


# path = 'Data/N15_ThetaPola_DATA/' 
path = 'Data/N11_ThetaPola_DATA/'
files = [path + f for f in os.listdir(path) if f.endswith('mat')]
files.sort() # sort files so the polarization and theta are right next to each other in the list 

for element1, element2 in zip(files[::2], files[1::2]):
    print(f"{element1:} {element2:}")

theta_trajs = [] 
pol_trajs = []

for f in files: 
    if f.endswith('POLARIZATION.mat'):
        pol_trajs.append(loadmat(f)['POLA'])
    else: 
        theta_trajs.append(loadmat(f)['THETAd'])


print(list(map(len, theta_trajs)))
print(list(map(len, pol_trajs)))

[print(theta[0, 0], p[0, 0]) for (theta, p) in zip(theta_trajs, pol_trajs) ];
is_finite = lambda p: np.isfinite(p[2])

del_list = [] 

for (i, (theta, p)) in enumerate(zip(theta_trajs, pol_trajs)): 
    if len(theta) != len(p) or np.any(np.isnan(p[:, 2])):
        del_list.append(i)
        
print(del_list)
for index in sorted(del_list, reverse=True):
    del theta_trajs[index]
    del pol_trajs[index]


print(list(map(np.shape, theta_trajs)))
print(list(map(np.shape, pol_trajs)))
dt = theta_trajs[0][0, 0]
print('dt = ', dt)


f1 = lambda x: (x[:, 1])/180*np.pi - np.mean(x[:, 1])/180*np.pi
f2 = lambda x: np.mean(x[:, 1:4], axis=1) - np.mean(x[:, 1:4])
f3 = lambda x: x[:, 2] - np.mean(x[:, 2])
data = [np.stack([f1(theta), f3(p)]) for (theta, p) in zip(theta_trajs, pol_trajs)]

show([d for d in data if len(d[0]) == 5000])


guess = [3, 0.1, 0.1, 1, 1, 1]
bounds = [[1e-10, None], [1e-10, None], [1e-10, None], [1e-10, None], [1e-10, None], [1e-10, None]]
inf = inference(convert_params)
MAP, y = inf.inf(guess, data, dt, bounds=bounds)
print(MAP, y)
print('gamma = ', MAP[1]+MAP[2]*MAP[3])


err, _ = inf.std_error(MAP, data, dt, delta=1e-4)
print(err)


J, B = convert_params(MAP)
print(J)
print(B) 
print(np.linalg.eigvals(J))


inf2 = exact_inference(convert_params) 
J2, B2 = inf2.inf(data, dt) 
print(J2)
print(B2)
print(np.linalg.eigvals(J2))


print(inf2._minuslogP(J, B, data, dt))
print(inf2._minuslogP(J2, B2, data, dt))


n_frames = 5000
guess = np.copy(MAP) 
print(guess)
m = sim(guess, convert_params)
print(m.J)
n_repeats = 8
sims = m.evolve(n_frames*dt, 5e-3, n_frames, n_repeats)


show(sims)


plot_dist(sims[:8])


plot_overall_dist(sims)


plot_corr(sims, 3000, dt); 


plot_corr_ft(np.array(sims), dt); 



