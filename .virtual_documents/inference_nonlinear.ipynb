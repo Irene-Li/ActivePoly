import numpy as np
from scipy.optimize import minimize, brute
import scipy
from scipy.stats import multivariate_normal
from matplotlib import pyplot as plt
from scipy.io import loadmat
import os
from scipy.linalg import solve_continuous_lyapunov
np.set_printoptions(precision=5, suppress=True)
import time
from utils import * 
from inference import *


def convert_params(params): 
    ''' 
    lambda, gamma, mu, c, b, sigma_d, sigma_p 
    '''
    J = np.array([[-params[0], params[2]], [-params[3], -params[1]]])
    c = params[3]/params[0]
    B = np.diagflat(params[-2:])**2 
    Dh = B[0, 0] 
    B[1, 0] += c*Dh
    B[0, 1] = B[1, 0] 
    B[1, 1] += c*c*Dh
    return J, B 


class nonlinear_model(sim): 
    
    def __init__(self, params, convert_params):
        super().__init__(params, convert_params) 
        self.b = params[4]

    def _update(self, y, dt):
        det = self.J @ y 
        det[1] -= self.b* y[1]**3 
        sto = np.sqrt(dt) * self.rv.rvs()
        y += det*dt + sto 


class nonlinear_inference(inference):
                   
    def _minuslogP(self, params, trajs, dt):
        '''
        traj: 2 x T 
        '''
        J, B = self.convert_params(params)
        b = params[4]
        invB = np.linalg.inv(B*dt) 
        _, norm = np.linalg.slogdet(invB)

        minuslogp = 0 
        for traj in trajs: 
            N = traj.shape[-1] - 1
            dx = traj[:, 1:] - traj[:, :-1]
            det = J @ traj[:, :-1]
            det[1] -= b*traj[1, :-1]**3 
            diff = dx - det*dt 
    
            minuslogp += np.einsum('ji,jk,ki', diff, invB, diff)/2 
            minuslogp -= N*norm/2
        return minuslogp





# params in order of [epsilon, gamma-mu*c, mu, c]
dt = 5e-3
n_frames = 5000
T = 3e-2*n_frames
n_repeats = 8

#  epsilon, gamma, mu, c, b, sigma_d, sigma_p  
params = [0.01, 1, 0.2, 1, 20, 0.005, 0.787]

J, B = convert_params(params)
print(J)
print(B)
print(np.linalg.eigvals(J))

m = nonlinear_model(params, convert_params)
results = m.evolve(T, dt, int(n_frames), n_repeats)


show(results)
plot_dist(results)


inf = nonlinear_inference(convert_params)

t1 = time.time() 
minuslogp = inf._minuslogP(params, results, T/n_frames)
t2 = time.time() 
print('time taken: ', t2-t1)
print(minuslogp)


## Numerical inference
inf = nonlinear_inference(convert_params)
guess = [1, 1, 1, 1, 100, 0.1, 0.1]
bounds = [[1e-6, None]]*7
bounds[1] = [None, None]
MAP, cost = inf.inf(guess, results, (T/n_frames), bounds=bounds)
print(MAP, cost)
print('true params:', params, inf._minuslogP(params, results, T/n_frames))


delta = 1e-4*MAP 
delta[0] = 1e-3
ste, _ = inf.std_error(MAP, results, T/n_frames, delta=delta)
print(ste)


path = 'Data/N11_ThetaPola_DATA/'
files = [f for f in os.listdir(path) if f.endswith('mat')]
files.sort() # sort files so the polarization and theta are right next to each other in the list 

for element1, element2 in zip(files[::2], files[1::2]):
    print(f"{element1:} {element2:}")

theta_trajs = [] 
pol_trajs = []

for f in files: 
    if f.endswith('POLARIZATION.mat'):
        pol_trajs.append(loadmat(path+f)['POLA'])
    else: 
        theta_trajs.append(loadmat(path+f)['THETAd'])


print(list(map(len, theta_trajs)))
print(list(map(len, pol_trajs)))
theta_trajs.pop(2);
pol_trajs.pop(2); 
print(list(map(np.shape, theta_trajs)))
print(list(map(np.shape, pol_trajs)))


N = 1

f1 = lambda x: (x[:, 1])/180*np.pi # - np.mean(x[:, 1])/180*np.pi
f2 = lambda x: np.mean(x[:, 1:4], axis=1) - np.mean(x[:, 1:4])
f3 = lambda x: x[:, 2] - np.mean(x[:, 2])
data = [np.stack([coarsen(f1(theta), N), coarsen(f2(p), N)]) for (theta, p) in zip(theta_trajs, pol_trajs)]
dt = N*0.03333333333333333
show([d for d in data if len(d[0]) == 5000/N])


linear_map = [0.089, 2.537, 0.176, 1, 0, 0.025, 0.787]
guess = [0.1, 0.1, 0.1, 5, 100, 0.02, 1]
bounds = [[0, None]]*7
bounds[1] = [None, None]
inf = nonlinear_inference(convert_params)
MAP, y = inf.inf(guess, data, dt, bounds=bounds)
print(MAP, y)
print(linear_map, inf._minuslogP(linear_map, data, dt))


delta = MAP*1e-4
delta[0]= 1e-3
std_err, hess = inf.std_error(MAP, data, dt, delta)
print('fractional error:', std_err/MAP)
print('absolute error:', std_err)
print(np.linalg.eigvals(hess)) # check that all eigenvalues of the Hessian are positive 


guess = MAP

n_frames = 5000
dt = 0.03333333333333333 
m = nonlinear_model(guess, convert_params)
print(m.J, m.b)
n_repeats = 8
sims = m.evolve(n_frames*dt, 3.3e-3, n_frames, n_repeats)


show(sims)


plot_dist(sims)


plot_overall_dist(sims)


plot_corr(sims, 3000, dt); 


plot_corr_ft(np.array(sims), dt)






