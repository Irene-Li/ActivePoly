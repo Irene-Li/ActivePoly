{
 "cells": [
  {
   "cell_type": "code",
   "execution_count": 1,
   "id": "ac2d1f7e",
   "metadata": {},
   "outputs": [],
   "source": [
    "import numpy as np\n",
    "from scipy.integrate import quad "
   ]
  },
  {
   "cell_type": "code",
   "execution_count": 2,
   "id": "273b72dc",
   "metadata": {},
   "outputs": [
    {
     "name": "stdout",
     "output_type": "stream",
     "text": [
      "2.01441102859189\n",
      "1.0157920236533249\n",
      "1.9986911585995422\n"
     ]
    }
   ],
   "source": [
    "k0 = 0.6*np.pi \n",
    "k1 = 1.5*np.pi\n",
    "\n",
    "def f(x, k): \n",
    "    return np.cosh(k*x) - np.cos(k*x) + (np.cos(k)+np.cosh(k))/(np.sin(k)+np.sinh(k))*(np.sin(k*x) - np.sinh(k*x))\n",
    "print(f(1, k0))\n",
    "\n",
    "fsq = lambda x: f(x, k0)**2\n",
    "f10 = lambda x: f(x, k0)*f(x, k1)\n",
    "I, _ = quad(fsq, 0, 1)\n",
    "print(I)\n",
    "\n",
    "f0 = f(1, k0)/np.sqrt(I)\n",
    "print(f0)"
   ]
  },
  {
   "cell_type": "code",
   "execution_count": 3,
   "id": "02914917",
   "metadata": {},
   "outputs": [],
   "source": [
    "##  direct measurements \n",
    "\n",
    "# length of one swimmer \n",
    "l = 2e-6 # 2 mu m \n",
    "\n",
    "# distance of the lowest point to the bottom of the tank \n",
    "xi = 100e-9 # 100 nm \n",
    "\n",
    "# viscosity \n",
    "eta = 1e-3 \n",
    "\n",
    "# Young's modulus \n",
    "E = 80 # 80 Pa \n",
    "\n",
    "# gamma \n",
    "gamma = 1\n",
    "\n",
    "# self-propulsion speed  \n",
    "vp = 1e-5 \n",
    "\n",
    "# nu \n",
    "nu = 1"
   ]
  },
  {
   "cell_type": "code",
   "execution_count": 4,
   "id": "47d3884c",
   "metadata": {},
   "outputs": [],
   "source": [
    "## some basic parameters \n",
    "\n",
    "mu = 8/5*np.pi*l*eta*vp*(-np.log(2*xi/l))\n",
    "\n",
    "chi_s = 8*np.pi*eta/(3*np.sqrt(2*xi/l))\n",
    "chi_b = 4*np.pi*eta/np.sqrt(2*xi/l)\n",
    "\n",
    "alpha = 1/xi*nu "
   ]
  },
  {
   "cell_type": "code",
   "execution_count": 5,
   "id": "7d563003",
   "metadata": {},
   "outputs": [
    {
     "name": "stdout",
     "output_type": "stream",
     "text": [
      "17.47539216050832 699.0156864203327\n"
     ]
    }
   ],
   "source": [
    "## spinning rod \n",
    "slope = 8*mu/(chi_s*l**2)\n",
    "\n",
    "coeff1 = alpha*slope/2*l*(4/gamma)\n",
    "\n",
    "print(slope, coeff1)"
   ]
  },
  {
   "cell_type": "code",
   "execution_count": 6,
   "id": "f01a5420",
   "metadata": {},
   "outputs": [
    {
     "name": "stdout",
     "output_type": "stream",
     "text": [
      "epsilon:  0.3742620298560726\n",
      "mu_bar:  0.029106593170223117\n",
      "c:  399.73823171990836\n",
      "A:  465.40072341023\n",
      "sigma_theta:  0.05110705519283558\n"
     ]
    }
   ],
   "source": [
    "## bending rod \n",
    "N = 10\n",
    "\n",
    "B = E*3*np.pi/64/(N)**4\n",
    "epsilon = B/chi_b*(0.6*np.pi)**4\n",
    "print('epsilon: ', epsilon)\n",
    "\n",
    "mu_bar = mu*f0/((l)**2*chi_b*N**2)\n",
    "print('mu_bar: ', mu_bar)\n",
    "\n",
    "c = alpha*(l*N)*f0 \n",
    "print('c: ', c)\n",
    "\n",
    "A = c*mu_bar*N*(4/gamma)\n",
    "print('A: ', A)\n",
    "\n",
    "sigma_theta = f0*np.sqrt(2*1.4e-23*295)/chi_b/N**1.5/l**1.5\n",
    "print('sigma_theta: ', sigma_theta)"
   ]
  },
  {
   "cell_type": "code",
   "execution_count": 9,
   "id": "49d6fb38",
   "metadata": {},
   "outputs": [
    {
     "name": "stdout",
     "output_type": "stream",
     "text": [
      "mu_bar:  0.12408540942972157\n",
      "nu:  0.10791946308724833\n",
      "c:  10.784883835664646\n",
      "beta:  14.25\n"
     ]
    }
   ],
   "source": [
    "# use spinning rod to infer bending rod \n",
    "slope = 74.5\n",
    "coeff1 = 80.4\n",
    "coeff2 = 57.0\n",
    "gamma = 1\n",
    "\n",
    "N = 10\n",
    "\n",
    "mu_bar = slope*f0/12/N**2\n",
    "print('mu_bar: ', mu_bar)\n",
    "\n",
    "alpha_pred = coeff1/slope*2/l\n",
    "print('nu: ', alpha_pred*xi)\n",
    "c = alpha_pred*(l*N)*f0/(4/gamma)\n",
    "print('c: ', c)\n",
    "\n",
    "print('beta: ', coeff2/(4/gamma))"
   ]
  },
  {
   "cell_type": "code",
   "execution_count": 9,
   "id": "f1f59468",
   "metadata": {},
   "outputs": [
    {
     "name": "stdout",
     "output_type": "stream",
     "text": [
      "4.166666666666667\n",
      "2.360810810810811\n"
     ]
    },
    {
     "data": {
      "text/plain": [
       "(None, None)"
      ]
     },
     "execution_count": 9,
     "metadata": {},
     "output_type": "execute_result"
    }
   ],
   "source": [
    "print(0.1/0.024), print(174.7/74)"
   ]
  },
  {
   "cell_type": "code",
   "execution_count": null,
   "id": "ef62b124",
   "metadata": {},
   "outputs": [],
   "source": []
  }
 ],
 "metadata": {
  "kernelspec": {
   "display_name": "Python 3 (ipykernel)",
   "language": "python",
   "name": "python3"
  },
  "language_info": {
   "codemirror_mode": {
    "name": "ipython",
    "version": 3
   },
   "file_extension": ".py",
   "mimetype": "text/x-python",
   "name": "python",
   "nbconvert_exporter": "python",
   "pygments_lexer": "ipython3",
   "version": "3.11.8"
  }
 },
 "nbformat": 4,
 "nbformat_minor": 5
}
