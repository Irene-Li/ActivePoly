{
 "cells": [
  {
   "cell_type": "code",
   "execution_count": 14,
   "id": "ac2d1f7e",
   "metadata": {},
   "outputs": [],
   "source": [
    "import numpy as np\n",
    "from scipy.integrate import quad "
   ]
  },
  {
   "cell_type": "code",
   "execution_count": 15,
   "id": "273b72dc",
   "metadata": {},
   "outputs": [
    {
     "name": "stdout",
     "output_type": "stream",
     "text": [
      "2.01441102859189\n",
      "1.0157920236533249\n",
      "1.9986911585995422\n"
     ]
    }
   ],
   "source": [
    "k0 = 0.6*np.pi \n",
    "k1 = 1.5*np.pi\n",
    "\n",
    "def f(x, k): \n",
    "    return np.cosh(k*x) - np.cos(k*x) + (np.cos(k)+np.cosh(k))/(np.sin(k)+np.sinh(k))*(np.sin(k*x) - np.sinh(k*x))\n",
    "print(f(1, k0))\n",
    "\n",
    "fsq = lambda x: f(x, k0)**2\n",
    "f10 = lambda x: f(x, k0)*f(x, k1)\n",
    "I, _ = quad(fsq, 0, 1)\n",
    "print(I)\n",
    "\n",
    "f0 = f(1, k0)/np.sqrt(I)\n",
    "print(f0)"
   ]
  },
  {
   "cell_type": "code",
   "execution_count": 16,
   "id": "02914917",
   "metadata": {},
   "outputs": [],
   "source": [
    "##  direct measurements \n",
    "\n",
    "# length of one swimmer \n",
    "l = 1.7e-6 # 2 mu m \n",
    "\n",
    "# distance of the lowest point to the bottom of the tank \n",
    "xi = 100e-9 # 100 nm \n",
    "\n",
    "# viscosity \n",
    "eta = 1e-3 \n",
    "\n",
    "# Young's modulus \n",
    "E = 40 # 40 Pa \n",
    "\n",
    "# gamma \n",
    "gamma = 1\n",
    "\n",
    "# self-propulsion speed  \n",
    "vp = 1e-5 \n",
    "\n",
    "# nu \n",
    "nu = 1\n",
    "\n",
    "# persistence length \n",
    "Lp = 1.3e-3"
   ]
  },
  {
   "cell_type": "code",
   "execution_count": 29,
   "id": "47d3884c",
   "metadata": {},
   "outputs": [
    {
     "name": "stdout",
     "output_type": "stream",
     "text": [
      "2.130332859846648e-24\n",
      "effective temperature: 4682.050241421205\n",
      "epsilon:  0.3515579614900621\n",
      "sigma_theta:  0.030810824916445198\n",
      "0.05196427319163615\n",
      "sigma eq: 0.006751181446259827\n"
     ]
    }
   ],
   "source": [
    "## some basic parameters \n",
    "\n",
    "mu = 8/5*np.pi*l*eta*vp*(-np.log(2*xi/l))\n",
    "\n",
    "chi_s = 8*np.pi*eta/(3*np.sqrt(2*xi/l))\n",
    "chi_b = 4*np.pi*eta/np.sqrt(2*xi/l)\n",
    "\n",
    "alpha = 1/xi*nu \n",
    "\n",
    "I = np.pi/4*(1/2*(np.sqrt(3)/2)**3)\n",
    "print(I*l**4)\n",
    "\n",
    "Teff = E*I*l**4/(1.4e-23*Lp)\n",
    "print('effective temperature:', Teff)\n",
    "\n",
    "N = 10 \n",
    "\n",
    "epsilon =(E*I/chi_b)*k0**4/N**4\n",
    "print('epsilon: ', epsilon)\n",
    "\n",
    "factor = (0.9/2 + 1.1/(1.3-0.7))/2\n",
    "width = (np.sqrt(1.1/(1.3-0.7))-np.sqrt(0.9/2))/2 \n",
    "sigma_theta = (N*l)**(-1.5)*np.sqrt(2*E*I*l**4/chi_b/Lp)*factor \n",
    "\n",
    "print('sigma_theta: ', sigma_theta)\n",
    "print(sigma_theta/np.sqrt(epsilon))\n",
    "\n",
    "sigma_eq = (N*l)**(-1.5)*np.sqrt(2*293*1.4e-23/chi_b)\n",
    "print('sigma eq:', sigma_eq)"
   ]
  },
  {
   "cell_type": "code",
   "execution_count": 10,
   "id": "7d563003",
   "metadata": {},
   "outputs": [
    {
     "name": "stdout",
     "output_type": "stream",
     "text": [
      "20.725740375584042 704.6751727698575\n"
     ]
    }
   ],
   "source": [
    "## spinning rod \n",
    "slope = 8 * mu /(chi_s*l**2)\n",
    "\n",
    "coeff1 = alpha*slope/2*l*(4/gamma)\n",
    "\n",
    "print(slope, coeff1)"
   ]
  },
  {
   "cell_type": "code",
   "execution_count": 136,
   "id": "f01a5420",
   "metadata": {},
   "outputs": [
    {
     "name": "stdout",
     "output_type": "stream",
     "text": [
      "epsilon:  0.33828680617007256\n",
      "mu_bar:  0.03452029503675782\n",
      "c:  339.77749696192217\n",
      "A:  469.1687776790655\n",
      "sigma_theta:  0.024645300208756212\n"
     ]
    }
   ],
   "source": [
    "## bending rod \n",
    "N = 10\n",
    "\n",
    "B = E*I/N**4\n",
    "epsilon =(B/chi_b)*k0**4\n",
    "print('epsilon: ', epsilon)\n",
    "\n",
    "mu_bar = mu*f0/((l)**2*chi_b*N**2)\n",
    "print('mu_bar: ', mu_bar)\n",
    "\n",
    "c = alpha*(l*N)*f0 \n",
    "print('c: ', c)\n",
    "\n",
    "A = c*mu_bar*N*(4/gamma)\n",
    "print('A: ', A)\n",
    "\n",
    "sigma_theta = np.sqrt(2*1.4e-23*Teff/chi_b)/N**1.5/l**1.5\n",
    "print('sigma_theta: ', sigma_theta)"
   ]
  },
  {
   "cell_type": "code",
   "execution_count": 28,
   "id": "49d6fb38",
   "metadata": {},
   "outputs": [
    {
     "name": "stdout",
     "output_type": "stream",
     "text": [
      "mu_bar:  0.09160667810247902\n",
      "nu:  0.1818181818181818\n",
      "c:  15.44443168008737\n",
      "beta:  15.0\n"
     ]
    }
   ],
   "source": [
    "# use spinning rod to infer bending rod \n",
    "slope = 55\n",
    "coeff1 = 85\n",
    "coeff2 = 60 \n",
    "gamma = 1\n",
    "\n",
    "N = 10\n",
    "\n",
    "mu_bar = slope*f0/12/N**2\n",
    "print('mu_bar: ', mu_bar)\n",
    "\n",
    "alpha_pred = coeff1/slope*2/l\n",
    "print('nu: ', alpha_pred*xi)\n",
    "\n",
    "c = alpha_pred*(l*N)*f0/(4/gamma)\n",
    "print('c: ', c)\n",
    "\n",
    "print('beta: ', coeff2/(4/gamma))"
   ]
  },
  {
   "cell_type": "code",
   "execution_count": null,
   "id": "ef62b124",
   "metadata": {},
   "outputs": [],
   "source": []
  }
 ],
 "metadata": {
  "kernelspec": {
   "display_name": "base",
   "language": "python",
   "name": "python3"
  },
  "language_info": {
   "codemirror_mode": {
    "name": "ipython",
    "version": 3
   },
   "file_extension": ".py",
   "mimetype": "text/x-python",
   "name": "python",
   "nbconvert_exporter": "python",
   "pygments_lexer": "ipython3",
   "version": "3.11.8"
  }
 },
 "nbformat": 4,
 "nbformat_minor": 5
}
