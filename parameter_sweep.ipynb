{
 "cells": [
  {
   "cell_type": "code",
   "execution_count": 1,
   "id": "2d9af197",
   "metadata": {},
   "outputs": [],
   "source": [
    "import numpy as np\n",
    "from matplotlib import pyplot as plt\n",
    "from scipy.stats import multivariate_normal\n",
    "from utils import *\n",
    "from model import * \n",
    "from matplotlib.patches import Ellipse"
   ]
  },
  {
   "cell_type": "code",
   "execution_count": 2,
   "id": "7d088d5a",
   "metadata": {},
   "outputs": [],
   "source": [
    "def get_J(params): \n",
    "    c = params[3]\n",
    "    gamma = params[1]\n",
    "    J = np.array([[-params[0], params[2]], [-c*params[0], -gamma+c*params[2]]])\n",
    "    return J \n",
    "\n",
    "def convert_params(params): \n",
    "    ''' \n",
    "    lambda, gamma, mu, c, b, sigma_d, \n",
    "    '''\n",
    "    c = params[3]\n",
    "    gamma = params[1]\n",
    "    J = np.array([[-params[0], params[2]], [-c*params[0], -gamma+c*params[2]]])\n",
    "    B = np.diagflat([params[5]**2, gamma])\n",
    "    Dh = B[0, 0] \n",
    "    B[1, 0] += c*Dh\n",
    "    B[0, 1] = B[1, 0] \n",
    "    B[1, 1] += c*c*Dh\n",
    "    return J, B \n",
    "\n",
    "def find_amps(params, get_J, T, n_frames, init):\n",
    "    m = FHN_det(params, get_J)\n",
    "    res = m.evolve(T, int(n_frames), init)\n",
    "    amps = np.fft.rfft(res[:, -int(n_frames/2):], axis=-1) \n",
    "    return np.abs(amps)**2 "
   ]
  },
  {
   "cell_type": "code",
   "execution_count": 3,
   "id": "3037c1f1",
   "metadata": {},
   "outputs": [],
   "source": [
    "# params in the order of epsilon, gamma, mu, c \n",
    "gamma = 1\n",
    "c =  14.4*gamma\n",
    "mu = 0.1\n",
    "epsilon = 0.374\n",
    "beta = 14.25*gamma\n",
    "\n",
    "params = [epsilon, gamma, mu, c, beta, 0.05]\n",
    "\n",
    "T = 1e3\n",
    "n_frames = int(T)\n",
    "init = [1, 1]\n",
    "\n",
    "N = 200\n",
    "epsilons = np.linspace(0.0001, 0.6, N)\n",
    "mus = np.linspace(0.0, 0.5, N)"
   ]
  },
  {
   "cell_type": "code",
   "execution_count": 6,
   "id": "d691e47a",
   "metadata": {},
   "outputs": [
    {
     "name": "stderr",
     "output_type": "stream",
     "text": [
      "capi_return is NULL\n",
      "Call-back cb_f_in_lsoda__user__routines failed.\n",
      "Fatal Python error: F2PySwapThreadLocalCallbackPtr: F2PySwapThreadLocalCallbackPtr: PyLong_AsVoidPtr failed\n",
      "Python runtime state: initialized\n",
      "Traceback (most recent call last):\n",
      "  File \"/opt/homebrew/anaconda3/lib/python3.11/site-packages/scipy/integrate/_ivp/base.py\", line 154, in fun\n",
      "    return self.fun_single(t, y)\n",
      "           ^^^^^^^^^^^^^^^^^^^^^\n",
      "  File \"/opt/homebrew/anaconda3/lib/python3.11/site-packages/scipy/integrate/_ivp/base.py\", line 23, in fun_wrapped\n",
      "    return np.asarray(fun(t, y), dtype=dtype)\n",
      "           ^^^^^^^^^^^^^^^^^^^^^^^^^^^^^^^^^^\n",
      "KeyboardInterrupt\n"
     ]
    }
   ],
   "source": [
    "Re = np.empty((N, N))\n",
    "Im = np.empty((N, N))\n",
    "Amps = np.empty((N, N))\n",
    "\n",
    "for (i, epsilon) in enumerate(epsilons): \n",
    "    for (j, mu) in enumerate(mus):\n",
    "        J = get_J([epsilon, gamma, mu, c]) \n",
    "        eigvals = np.linalg.eigvals(J)\n",
    "        Re[i, j] = np.real(np.max(eigvals))\n",
    "        Im[i, j] = np.imag(np.max(eigvals))\n",
    "        \n",
    "        params = [epsilon, gamma, mu, c, beta]\n",
    "        amps = find_amps(params, get_J, T, n_frames, init)\n",
    "        Amps[i, j] = np.sum(amps[1:])/n_frames "
   ]
  },
  {
   "cell_type": "code",
   "execution_count": 74,
   "id": "0b2cfb87",
   "metadata": {},
   "outputs": [],
   "source": [
    "np.save('Data/param_sweep_amps.npy', Amps)\n",
    "np.save('Data/param_sweep_epsilons.npy', epsilons)\n",
    "np.save('Data/param_sweep_mus.npy', mus)"
   ]
  },
  {
   "cell_type": "code",
   "execution_count": 4,
   "id": "843452a6",
   "metadata": {
    "scrolled": false
   },
   "outputs": [
    {
     "ename": "NameError",
     "evalue": "name 'Amps' is not defined",
     "output_type": "error",
     "traceback": [
      "\u001b[0;31m---------------------------------------------------------------------------\u001b[0m",
      "\u001b[0;31mNameError\u001b[0m                                 Traceback (most recent call last)",
      "Cell \u001b[0;32mIn[4], line 15\u001b[0m\n\u001b[1;32m     12\u001b[0m plt\u001b[38;5;241m.\u001b[39mrc(\u001b[38;5;124m'\u001b[39m\u001b[38;5;124mfont\u001b[39m\u001b[38;5;124m'\u001b[39m, family\u001b[38;5;241m=\u001b[39m\u001b[38;5;124m'\u001b[39m\u001b[38;5;124mserif\u001b[39m\u001b[38;5;124m'\u001b[39m, size\u001b[38;5;241m=\u001b[39m\u001b[38;5;241m15\u001b[39m)\n\u001b[1;32m     14\u001b[0m \u001b[38;5;66;03m# plot the amplitudes of oscillation \u001b[39;00m\n\u001b[0;32m---> 15\u001b[0m plt\u001b[38;5;241m.\u001b[39mcontourf(mus, epsilons, Amps, [\u001b[38;5;241m0\u001b[39m, \u001b[38;5;241m1\u001b[39m, \u001b[38;5;241m5\u001b[39m, \u001b[38;5;241m10\u001b[39m, \u001b[38;5;241m20\u001b[39m, \u001b[38;5;241m50\u001b[39m], vmin\u001b[38;5;241m=\u001b[39m\u001b[38;5;241m0\u001b[39m, vmax\u001b[38;5;241m=\u001b[39m\u001b[38;5;241m30\u001b[39m, cmap\u001b[38;5;241m=\u001b[39m\u001b[38;5;124m'\u001b[39m\u001b[38;5;124mGreys\u001b[39m\u001b[38;5;124m'\u001b[39m)\n\u001b[1;32m     16\u001b[0m plt\u001b[38;5;241m.\u001b[39mcolorbar() \n\u001b[1;32m     18\u001b[0m \u001b[38;5;66;03m# plot the contour of the Re eigenvalues \u001b[39;00m\n",
      "\u001b[0;31mNameError\u001b[0m: name 'Amps' is not defined"
     ]
    }
   ],
   "source": [
    "epsilon_map = 0.374\n",
    "epsilon_frac_err = 0.01/epsilon_map \n",
    "\n",
    "mu_map = 0.1\n",
    "mu_frac_err = 0.05\n",
    "\n",
    "centre = [mu_map, epsilon_map]\n",
    "width = mu_frac_err*mu_map \n",
    "height = epsilon_frac_err*epsilon_map\n",
    "\n",
    "plt.rc('text', usetex=True)\n",
    "plt.rc('font', family='serif', size=15)\n",
    "\n",
    "# plot the amplitudes of oscillation \n",
    "plt.contourf(mus, epsilons, Amps, [0, 1, 5, 10, 20, 50], vmin=0, vmax=30, cmap='Greys')\n",
    "plt.colorbar() \n",
    "\n",
    "# plot the contour of the Re eigenvalues \n",
    "cs = plt.contour(mus, epsilons, Re, levels=[-0.2, 0, 1], colors='sienna')\n",
    "fmt = lambda x: r'Re= {}'.format(x)\n",
    "plt.clabel(cs, inline=True, fmt=fmt, fontsize=10)\n",
    "\n",
    "# plot the contour of the Im eigenvalues \n",
    "cs = plt.contour(mus, epsilons, Im, levels=[0, 0.2], colors='orange', alpha=0.5, linestyles='--')\n",
    "fmt = lambda x: r'Im={}'.format(x)\n",
    "plt.clabel(cs, inline=True, fmt=fmt, fontsize=10)\n",
    "\n",
    "# plot the MAP values \n",
    "plt.plot(mu_map, epsilon_map, '+', color='darkorange', markersize=10)\n",
    "\n",
    "\n",
    "plt.title('Oscillation amplitude')\n",
    "plt.xlabel(r'$\\mu$')\n",
    "plt.ylabel(r'$\\epsilon$')\n",
    "plt.xlim([0, 0.3])\n",
    "plt.ylim([0, 0.6])\n",
    "plt.tight_layout()\n",
    "plt.savefig('Figures/param_sweep.pdf')\n",
    "plt.show() "
   ]
  },
  {
   "cell_type": "code",
   "execution_count": 7,
   "id": "864d5f2c",
   "metadata": {
    "scrolled": false
   },
   "outputs": [],
   "source": [
    "N = 1000\n",
    "gamma = 1 \n",
    "ratios = np.linspace(0.1, 3, N)\n",
    "c_map = 14.5 \n",
    "c_traj = c_map*ratios\n",
    "mu_map = 0.1 \n",
    "mu_traj = mu_map/ratios**2\n",
    "epsilon_map = 0.374\n",
    "epsilon_traj = epsilon_map/ratios**4 \n",
    "\n",
    "\n",
    "\n",
    "\n",
    "T = 1e3\n",
    "n_frames = int(T)\n",
    "init = [1, 1]\n",
    "freqs = np.fft.rfftfreq(int(n_frames/2))*2*np.pi \n",
    "\n",
    "Re = np.empty((N))\n",
    "Im = np.empty((N))\n",
    "theta_freq = np.empty((N))\n",
    "p_freq = np.empty((N))\n",
    "\n",
    "for (i, (mu, c, epsilon)) in enumerate(zip(mu_traj, c_traj, epsilon_traj)):\n",
    "    J = get_J([epsilon, gamma, mu, c]) \n",
    "    eigvals = np.linalg.eigvals(J)\n",
    "    Re[i] = np.real(np.max(eigvals))\n",
    "    Im[i] = np.imag(np.max(eigvals))\n",
    "    \n",
    "    params = [epsilon, gamma, mu, c, beta]\n",
    "    amps = find_amps(params, get_J, T, n_frames, init)\n",
    "    \n",
    "    theta_freq[i] = freqs[np.argmax(amps[0])]\n",
    "    p_freq[i] = freqs[np.argmax(amps[1])]"
   ]
  },
  {
   "cell_type": "code",
   "execution_count": 8,
   "id": "4ba9b30b",
   "metadata": {},
   "outputs": [
    {
     "data": {
      "image/png": "[encoded data removed]",
      "text/plain": [
       "<Figure size 640x480 with 1 Axes>"
      ]
     },
     "metadata": {},
     "output_type": "display_data"
    }
   ],
   "source": [
    "plt.rc('text', usetex=True)\n",
    "plt.rc('font', family='serif', size=15)\n",
    "\n",
    "plt.axvline(x=11, c='k')\n",
    "plt.axhline(y=0, c='k')\n",
    "plt.plot(ratios*11, theta_freq, 'k', label=r'simulations')\n",
    "plt.plot(ratios*11, Re, '--', alpha=0.7, label=r'Re')\n",
    "plt.plot(ratios*11, Im, '--', alpha=0.7, label=r'Im')\n",
    "plt.xlim([1.1, 33])\n",
    "plt.ylim([-0.2, 1.1])\n",
    "plt.xlabel('N')\n",
    "plt.ylabel(r'Angular frequency/$s^{-1}$')\n",
    "plt.legend()\n",
    "plt.tight_layout()\n",
    "plt.savefig('Figures/re_im_eig.pdf')\n",
    "plt.show()"
   ]
  },
  {
   "cell_type": "code",
   "execution_count": null,
   "id": "0283c9fe",
   "metadata": {},
   "outputs": [],
   "source": []
  }
 ],
 "metadata": {
  "kernelspec": {
   "display_name": "Python 3 (ipykernel)",
   "language": "python",
   "name": "python3"
  },
  "language_info": {
   "codemirror_mode": {
    "name": "ipython",
    "version": 3
   },
   "file_extension": ".py",
   "mimetype": "text/x-python",
   "name": "python",
   "nbconvert_exporter": "python",
   "pygments_lexer": "ipython3",
   "version": "3.11.8"
  }
 },
 "nbformat": 4,
 "nbformat_minor": 5
}
